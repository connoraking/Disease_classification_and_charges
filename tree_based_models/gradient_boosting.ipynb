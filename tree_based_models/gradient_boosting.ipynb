{
 "cells": [
  {
   "cell_type": "markdown",
   "id": "64fbcbce",
   "metadata": {},
   "source": [
    "In this notebook, I will implement *Boosting* based on decision trees, specifically Gradient Boosting and `XGBoost`. Similar to *Bagging*, *Boosting* is a general approach that can be applied to many machine learning methods. Trees in Boosting are built **sequentially**: each tree is grown using info from previously grown trees. Boosting, notably, does not involve bootstrap sampling and instead is fit on a modified version of the original data set.\n",
    "\n",
    "Boosting learns *slowly*. Given the current model, we fit a decision tree to the residuals from the model instead of $Y$ (hospital charges). When then add this new decision tree into the fitted function in order to update the residuals. By fitting small trees to the residuals, we slowly improve $\\hat{f}$ in areas where it does not perform well. The shrinkage parameter $\\lambda$ slows the process down further, allowing more and different shaped trees to attack the residuals.\n",
    "\n",
    "**Algorithm:**:\n",
    "\n",
    "1. Set $\\hat{f}(x) = 0$ and $r_i = y_i$, $\\forall i $ in the training set \n",
    "2. For $b = 1, 2, \\dots, B$, repeat:\n",
    "    1. Fit a tree $\\hat{f}^b$ with $d$ splits ($d+1$ terminal nodes) to the training data ($X,r$)\n",
    "    2. Update $\\hat{f}$ by adding in a shrunken version of the new tree: $\\hat{f}(x) \\leftarrow \\hat{f}(x) + \\lambda \\hat{f}^b(x)$\n",
    "    3. Update the residuals: $r_i \\leftarrow r_i - \\lambda  \\hat{f}^b(x_i)$\n",
    "    4. Output the boosted model: $\\hat{f}(x) = \\sum_{b=1}^{B} \\lambda  \\hat{f}^b(x)$\n",
    "    \n",
    "Boosting here has three hyperparameters (tuning parameters):\n",
    "1. The number of trees $B$. Unlike *bagging* and *random forests*, boosting can overfit if $B$ is too large. We will use cross-validation to select $B$\n",
    "2. The shrinkage parameter $\\lambda$, a small positive number. This controls the rate at which boosting learns. Typical values are 0.01 or 0.001. Very small $\\lambda$ will require large number of trees $B$\n",
    "3. The number of $d$ splits in each tree which controls the complexity of the boosted ensemble. $d=1$ often works well in which each tree is a *stump*, consisting of a single split. $d$ is also the *interaction depth* and controls the interaction order of the boosted model since $d$ splits can involve at most $d$ variables.\n",
    "    - maximum depth of each individual tree in the ensemble\n",
    "\n",
    "Because of $d$, the ensemble $\\hat{f}$ is usually built by combining predictions of many small trees\n",
    "\n",
    "**SOURCE**: Introduction to Statistical Learning (Python)"
   ]
  },
  {
   "cell_type": "code",
   "execution_count": 9,
   "id": "6c894c60",
   "metadata": {},
   "outputs": [],
   "source": [
    "import os\n",
    "import time\n",
    "import pandas as pd\n",
    "import numpy as np\n",
    "from sklearn.model_selection import train_test_split, GridSearchCV\n",
    "from sklearn.ensemble import GradientBoostingRegressor\n",
    "from sklearn.metrics import mean_squared_error, mean_absolute_percentage_error, mean_absolute_error, median_absolute_error\n",
    "\n",
    "import xgboost as xgb\n",
    "\n",
    "import matplotlib.pyplot as plt\n",
    "import seaborn as sns"
   ]
  },
  {
   "cell_type": "code",
   "execution_count": 2,
   "id": "40558417",
   "metadata": {},
   "outputs": [],
   "source": [
    "def rmse(y_true, y_pred):\n",
    "    return np.sqrt(mean_squared_error(y_true, y_pred))"
   ]
  },
  {
   "cell_type": "markdown",
   "id": "530182ee",
   "metadata": {},
   "source": [
    "# Importing Dataset"
   ]
  },
  {
   "cell_type": "code",
   "execution_count": 4,
   "id": "2843191c",
   "metadata": {},
   "outputs": [],
   "source": [
    "# Importing processed dataframe\n",
    "path_project = \"C:/Users/Conno/Documents/Career/Projects/Hospital_Charges/tree_based_models\"\n",
    "\n",
    "os.chdir(path_project)\n",
    "plots_dir = 'boosting_plots' # stores plots in plot folder\n",
    "\n",
    "df = pd.read_csv(\"../df_processed.csv\")\n",
    "\n",
    "# do this later in data_cleaning file\n",
    "bool_cols = df.select_dtypes(include=['bool']).columns\n",
    "df[bool_cols] = df[bool_cols].astype(int)\n",
    "\n",
    "#df.dtypes"
   ]
  },
  {
   "cell_type": "markdown",
   "id": "2ceeb269",
   "metadata": {},
   "source": [
    "## Train-Test Split"
   ]
  },
  {
   "cell_type": "code",
   "execution_count": 5,
   "id": "f7634e39",
   "metadata": {},
   "outputs": [],
   "source": [
    "X = df.drop(columns = [\"charges\"])\n",
    "y = df[\"charges\"]\n",
    "\n",
    "X_train, X_test, y_train, y_test = train_test_split(X, y, test_size = 0.2, random_state = 32)"
   ]
  },
  {
   "cell_type": "markdown",
   "id": "565307b0",
   "metadata": {},
   "source": [
    "# Gradient Boosting"
   ]
  },
  {
   "cell_type": "code",
   "execution_count": 6,
   "id": "2d62145d",
   "metadata": {},
   "outputs": [],
   "source": [
    "boosting_model = GradientBoostingRegressor()"
   ]
  },
  {
   "cell_type": "code",
   "execution_count": 20,
   "id": "a16b1259",
   "metadata": {},
   "outputs": [
    {
     "data": {
      "text/html": [
       "<style>#sk-container-id-2 {color: black;background-color: white;}#sk-container-id-2 pre{padding: 0;}#sk-container-id-2 div.sk-toggleable {background-color: white;}#sk-container-id-2 label.sk-toggleable__label {cursor: pointer;display: block;width: 100%;margin-bottom: 0;padding: 0.3em;box-sizing: border-box;text-align: center;}#sk-container-id-2 label.sk-toggleable__label-arrow:before {content: \"▸\";float: left;margin-right: 0.25em;color: #696969;}#sk-container-id-2 label.sk-toggleable__label-arrow:hover:before {color: black;}#sk-container-id-2 div.sk-estimator:hover label.sk-toggleable__label-arrow:before {color: black;}#sk-container-id-2 div.sk-toggleable__content {max-height: 0;max-width: 0;overflow: hidden;text-align: left;background-color: #f0f8ff;}#sk-container-id-2 div.sk-toggleable__content pre {margin: 0.2em;color: black;border-radius: 0.25em;background-color: #f0f8ff;}#sk-container-id-2 input.sk-toggleable__control:checked~div.sk-toggleable__content {max-height: 200px;max-width: 100%;overflow: auto;}#sk-container-id-2 input.sk-toggleable__control:checked~label.sk-toggleable__label-arrow:before {content: \"▾\";}#sk-container-id-2 div.sk-estimator input.sk-toggleable__control:checked~label.sk-toggleable__label {background-color: #d4ebff;}#sk-container-id-2 div.sk-label input.sk-toggleable__control:checked~label.sk-toggleable__label {background-color: #d4ebff;}#sk-container-id-2 input.sk-hidden--visually {border: 0;clip: rect(1px 1px 1px 1px);clip: rect(1px, 1px, 1px, 1px);height: 1px;margin: -1px;overflow: hidden;padding: 0;position: absolute;width: 1px;}#sk-container-id-2 div.sk-estimator {font-family: monospace;background-color: #f0f8ff;border: 1px dotted black;border-radius: 0.25em;box-sizing: border-box;margin-bottom: 0.5em;}#sk-container-id-2 div.sk-estimator:hover {background-color: #d4ebff;}#sk-container-id-2 div.sk-parallel-item::after {content: \"\";width: 100%;border-bottom: 1px solid gray;flex-grow: 1;}#sk-container-id-2 div.sk-label:hover label.sk-toggleable__label {background-color: #d4ebff;}#sk-container-id-2 div.sk-serial::before {content: \"\";position: absolute;border-left: 1px solid gray;box-sizing: border-box;top: 0;bottom: 0;left: 50%;z-index: 0;}#sk-container-id-2 div.sk-serial {display: flex;flex-direction: column;align-items: center;background-color: white;padding-right: 0.2em;padding-left: 0.2em;position: relative;}#sk-container-id-2 div.sk-item {position: relative;z-index: 1;}#sk-container-id-2 div.sk-parallel {display: flex;align-items: stretch;justify-content: center;background-color: white;position: relative;}#sk-container-id-2 div.sk-item::before, #sk-container-id-2 div.sk-parallel-item::before {content: \"\";position: absolute;border-left: 1px solid gray;box-sizing: border-box;top: 0;bottom: 0;left: 50%;z-index: -1;}#sk-container-id-2 div.sk-parallel-item {display: flex;flex-direction: column;z-index: 1;position: relative;background-color: white;}#sk-container-id-2 div.sk-parallel-item:first-child::after {align-self: flex-end;width: 50%;}#sk-container-id-2 div.sk-parallel-item:last-child::after {align-self: flex-start;width: 50%;}#sk-container-id-2 div.sk-parallel-item:only-child::after {width: 0;}#sk-container-id-2 div.sk-dashed-wrapped {border: 1px dashed gray;margin: 0 0.4em 0.5em 0.4em;box-sizing: border-box;padding-bottom: 0.4em;background-color: white;}#sk-container-id-2 div.sk-label label {font-family: monospace;font-weight: bold;display: inline-block;line-height: 1.2em;}#sk-container-id-2 div.sk-label-container {text-align: center;}#sk-container-id-2 div.sk-container {/* jupyter's `normalize.less` sets `[hidden] { display: none; }` but bootstrap.min.css set `[hidden] { display: none !important; }` so we also need the `!important` here to be able to override the default hidden behavior on the sphinx rendered scikit-learn.org. See: https://github.com/scikit-learn/scikit-learn/issues/21755 */display: inline-block !important;position: relative;}#sk-container-id-2 div.sk-text-repr-fallback {display: none;}</style><div id=\"sk-container-id-2\" class=\"sk-top-container\"><div class=\"sk-text-repr-fallback\"><pre>GridSearchCV(cv=5, estimator=GradientBoostingRegressor(), n_jobs=-1,\n",
       "             param_grid={&#x27;learning_rate&#x27;: [0.01, 0.001], &#x27;max_depth&#x27;: [1, 3, 5],\n",
       "                         &#x27;n_estimators&#x27;: [100, 500, 1000, 5000],\n",
       "                         &#x27;random_state&#x27;: [32]},\n",
       "             scoring=&#x27;neg_mean_squared_error&#x27;)</pre><b>In a Jupyter environment, please rerun this cell to show the HTML representation or trust the notebook. <br />On GitHub, the HTML representation is unable to render, please try loading this page with nbviewer.org.</b></div><div class=\"sk-container\" hidden><div class=\"sk-item sk-dashed-wrapped\"><div class=\"sk-label-container\"><div class=\"sk-label sk-toggleable\"><input class=\"sk-toggleable__control sk-hidden--visually\" id=\"sk-estimator-id-4\" type=\"checkbox\" ><label for=\"sk-estimator-id-4\" class=\"sk-toggleable__label sk-toggleable__label-arrow\">GridSearchCV</label><div class=\"sk-toggleable__content\"><pre>GridSearchCV(cv=5, estimator=GradientBoostingRegressor(), n_jobs=-1,\n",
       "             param_grid={&#x27;learning_rate&#x27;: [0.01, 0.001], &#x27;max_depth&#x27;: [1, 3, 5],\n",
       "                         &#x27;n_estimators&#x27;: [100, 500, 1000, 5000],\n",
       "                         &#x27;random_state&#x27;: [32]},\n",
       "             scoring=&#x27;neg_mean_squared_error&#x27;)</pre></div></div></div><div class=\"sk-parallel\"><div class=\"sk-parallel-item\"><div class=\"sk-item\"><div class=\"sk-label-container\"><div class=\"sk-label sk-toggleable\"><input class=\"sk-toggleable__control sk-hidden--visually\" id=\"sk-estimator-id-5\" type=\"checkbox\" ><label for=\"sk-estimator-id-5\" class=\"sk-toggleable__label sk-toggleable__label-arrow\">estimator: GradientBoostingRegressor</label><div class=\"sk-toggleable__content\"><pre>GradientBoostingRegressor()</pre></div></div></div><div class=\"sk-serial\"><div class=\"sk-item\"><div class=\"sk-estimator sk-toggleable\"><input class=\"sk-toggleable__control sk-hidden--visually\" id=\"sk-estimator-id-6\" type=\"checkbox\" ><label for=\"sk-estimator-id-6\" class=\"sk-toggleable__label sk-toggleable__label-arrow\">GradientBoostingRegressor</label><div class=\"sk-toggleable__content\"><pre>GradientBoostingRegressor()</pre></div></div></div></div></div></div></div></div></div></div>"
      ],
      "text/plain": [
       "GridSearchCV(cv=5, estimator=GradientBoostingRegressor(), n_jobs=-1,\n",
       "             param_grid={'learning_rate': [0.01, 0.001], 'max_depth': [1, 3, 5],\n",
       "                         'n_estimators': [100, 500, 1000, 5000],\n",
       "                         'random_state': [32]},\n",
       "             scoring='neg_mean_squared_error')"
      ]
     },
     "execution_count": 20,
     "metadata": {},
     "output_type": "execute_result"
    }
   ],
   "source": [
    "param_grid_boost = {\n",
    "    'n_estimators': [100, 500, 1000, 5000], # num trees: B\n",
    "    'learning_rate': [0.01, 0.001], # learning rate: lambda\n",
    "    'max_depth': [1, 3, 5], # num splits: d\n",
    "    'random_state': [32]\n",
    "}\n",
    "\n",
    "grid_boost = GridSearchCV(estimator = boosting_model,\n",
    "                         param_grid = param_grid_boost,\n",
    "                         cv = 5,\n",
    "                         scoring = 'neg_mean_squared_error',\n",
    "                         n_jobs = -1\n",
    "                         )\n",
    "\n",
    "grid_boost.fit(X_train, y_train)"
   ]
  },
  {
   "cell_type": "code",
   "execution_count": 11,
   "id": "004ef7d3",
   "metadata": {},
   "outputs": [
    {
     "name": "stdout",
     "output_type": "stream",
     "text": [
      "Best Parameters from Grid Search:  {'learning_rate': 0.01, 'max_depth': 3, 'n_estimators': 5000, 'random_state': 32}\n",
      "Best Cross-Validation Score from Grid Search:  3093706346.151949\n"
     ]
    }
   ],
   "source": [
    "print(\"Best Parameters from Grid Search: \", grid_boost.best_params_)\n",
    "print(\"Best Cross-Validation Score from Grid Search: \", -grid_boost.best_score_)"
   ]
  },
  {
   "cell_type": "markdown",
   "id": "9dd95407",
   "metadata": {},
   "source": [
    "## Plotting"
   ]
  },
  {
   "cell_type": "code",
   "execution_count": 22,
   "id": "d6476690",
   "metadata": {},
   "outputs": [
    {
     "data": {
      "text/html": [
       "<svg  width=\"550\" height=\"55\"><rect x=\"0\" y=\"0\" width=\"55\" height=\"55\" style=\"fill:#1f77b4;stroke-width:2;stroke:rgb(255,255,255)\"/><rect x=\"55\" y=\"0\" width=\"55\" height=\"55\" style=\"fill:#ff7f0e;stroke-width:2;stroke:rgb(255,255,255)\"/><rect x=\"110\" y=\"0\" width=\"55\" height=\"55\" style=\"fill:#2ca02c;stroke-width:2;stroke:rgb(255,255,255)\"/><rect x=\"165\" y=\"0\" width=\"55\" height=\"55\" style=\"fill:#d62728;stroke-width:2;stroke:rgb(255,255,255)\"/><rect x=\"220\" y=\"0\" width=\"55\" height=\"55\" style=\"fill:#9467bd;stroke-width:2;stroke:rgb(255,255,255)\"/><rect x=\"275\" y=\"0\" width=\"55\" height=\"55\" style=\"fill:#8c564b;stroke-width:2;stroke:rgb(255,255,255)\"/><rect x=\"330\" y=\"0\" width=\"55\" height=\"55\" style=\"fill:#e377c2;stroke-width:2;stroke:rgb(255,255,255)\"/><rect x=\"385\" y=\"0\" width=\"55\" height=\"55\" style=\"fill:#7f7f7f;stroke-width:2;stroke:rgb(255,255,255)\"/><rect x=\"440\" y=\"0\" width=\"55\" height=\"55\" style=\"fill:#bcbd22;stroke-width:2;stroke:rgb(255,255,255)\"/><rect x=\"495\" y=\"0\" width=\"55\" height=\"55\" style=\"fill:#17becf;stroke-width:2;stroke:rgb(255,255,255)\"/></svg>"
      ],
      "text/plain": [
       "[(0.12156862745098039, 0.4666666666666667, 0.7058823529411765),\n",
       " (1.0, 0.4980392156862745, 0.054901960784313725),\n",
       " (0.17254901960784313, 0.6274509803921569, 0.17254901960784313),\n",
       " (0.8392156862745098, 0.15294117647058825, 0.1568627450980392),\n",
       " (0.5803921568627451, 0.403921568627451, 0.7411764705882353),\n",
       " (0.5490196078431373, 0.33725490196078434, 0.29411764705882354),\n",
       " (0.8901960784313725, 0.4666666666666667, 0.7607843137254902),\n",
       " (0.4980392156862745, 0.4980392156862745, 0.4980392156862745),\n",
       " (0.7372549019607844, 0.7411764705882353, 0.13333333333333333),\n",
       " (0.09019607843137255, 0.7450980392156863, 0.8117647058823529)]"
      ]
     },
     "execution_count": 22,
     "metadata": {},
     "output_type": "execute_result"
    }
   ],
   "source": [
    "sns.color_palette(\"tab10\")"
   ]
  },
  {
   "cell_type": "code",
   "execution_count": 38,
   "id": "f5ae96e9",
   "metadata": {},
   "outputs": [
    {
     "data": {
      "image/png": "[encoded data removed]",
      "text/plain": [
       "<Figure size 1000x600 with 1 Axes>"
      ]
     },
     "metadata": {},
     "output_type": "display_data"
    }
   ],
   "source": [
    "# creating a dataframe of the results and extracting the key columns necessary for plotting\n",
    "\n",
    "results_boost = pd.DataFrame(grid_boost.cv_results_)\n",
    "results_boost = results_boost[['param_n_estimators', 'param_learning_rate', 'param_max_depth', 'mean_test_score']]\n",
    "results_boost.columns = ['n_estimators', 'learning_rate', 'max_depth', 'mean_test_score']\n",
    "results_boost['mean_test_score'] = -results_boost['mean_test_score']\n",
    "\n",
    "plt.figure(figsize=(10, 6))\n",
    "sns.lineplot(data = results_boost,\n",
    "            x = 'n_estimators',\n",
    "            y = 'mean_test_score',\n",
    "            hue = 'max_depth',\n",
    "            style = 'learning_rate',\n",
    "            markers = True,\n",
    "            dashes = True,\n",
    "            palette='colorblind')\n",
    "\n",
    "plt.xlabel('Num. Trees')\n",
    "plt.ylabel('Mean Squared Error (MSE)')\n",
    "plt.title(\"Boosting 5-fold Cross-Validation\")\n",
    "\n",
    "boost_cv_path = os.path.join(plots_dir, 'boost_cv_plot')\n",
    "plt.savefig(boost_cv_path)\n",
    "\n",
    "plt.show()"
   ]
  },
  {
   "cell_type": "markdown",
   "id": "7ef8f916",
   "metadata": {},
   "source": [
    "The learning rate of $0.0001$ converges much slower as the number of trees increases, however it does eventually reach similar performance to 0.01. Nevertheless, 0.01 is clearly better from the performed cross-validation. A max depth of 3 splits was also optimal. The model's performance improves with an increasing number of trees for all configurations but the rate of improvement diminishes. It stabilizes at 1000 trees and would be more computationally efficient than 5000 trees.\n",
    "\n",
    "Thus the chosen hyperparameters will be:\n",
    "- $B = 1000$\n",
    "- $\\lambda = 0.01$\n",
    "- $d$ = 3"
   ]
  },
  {
   "cell_type": "code",
   "execution_count": 30,
   "id": "1ac9ac0d",
   "metadata": {},
   "outputs": [
    {
     "name": "stdout",
     "output_type": "stream",
     "text": [
      "Time to fit the model: 10.03 seconds\n"
     ]
    }
   ],
   "source": [
    "start_time = time.time()\n",
    "\n",
    "final_boost_model = GradientBoostingRegressor(n_estimators = 1000, # B\n",
    "                                             learning_rate = 0.01, # lambda\n",
    "                                             max_depth = 3, # d\n",
    "                                             random_state =32)\n",
    "final_boost_model.fit(X_train, y_train)\n",
    "\n",
    "end_time = time.time()\n",
    "\n",
    "elapsed_time = end_time - start_time\n",
    "\n",
    "print(f\"Time to fit the model: {elapsed_time:.2f} seconds\")"
   ]
  },
  {
   "cell_type": "markdown",
   "id": "38b411df",
   "metadata": {},
   "source": [
    "## Feature Importance"
   ]
  },
  {
   "cell_type": "markdown",
   "id": "f972a1ba",
   "metadata": {},
   "source": [
    "The feature importance scoring criteria is *purity* where it refers to the relative importance of each feature (predictor) in predicting the target variable (hospital charges). This metric is derived from the contribtion of each feature to the reduction of the loss function (mse) across all the trees in the ensemble"
   ]
  },
  {
   "cell_type": "code",
   "execution_count": 33,
   "id": "63d41e19",
   "metadata": {},
   "outputs": [
    {
     "data": {
      "text/html": [
       "<div>\n",
       "<style scoped>\n",
       "    .dataframe tbody tr th:only-of-type {\n",
       "        vertical-align: middle;\n",
       "    }\n",
       "\n",
       "    .dataframe tbody tr th {\n",
       "        vertical-align: top;\n",
       "    }\n",
       "\n",
       "    .dataframe thead th {\n",
       "        text-align: right;\n",
       "    }\n",
       "</style>\n",
       "<table border=\"1\" class=\"dataframe\">\n",
       "  <thead>\n",
       "    <tr style=\"text-align: right;\">\n",
       "      <th></th>\n",
       "      <th>Feature</th>\n",
       "      <th>Importance</th>\n",
       "    </tr>\n",
       "  </thead>\n",
       "  <tbody>\n",
       "    <tr>\n",
       "      <th>3</th>\n",
       "      <td>slos</td>\n",
       "      <td>0.383344</td>\n",
       "    </tr>\n",
       "    <tr>\n",
       "      <th>13</th>\n",
       "      <td>hday</td>\n",
       "      <td>0.234973</td>\n",
       "    </tr>\n",
       "    <tr>\n",
       "      <th>18</th>\n",
       "      <td>dnrday</td>\n",
       "      <td>0.118217</td>\n",
       "    </tr>\n",
       "    <tr>\n",
       "      <th>8</th>\n",
       "      <td>avtisst</td>\n",
       "      <td>0.085204</td>\n",
       "    </tr>\n",
       "    <tr>\n",
       "      <th>0</th>\n",
       "      <td>age</td>\n",
       "      <td>0.030399</td>\n",
       "    </tr>\n",
       "    <tr>\n",
       "      <th>7</th>\n",
       "      <td>scoma</td>\n",
       "      <td>0.030192</td>\n",
       "    </tr>\n",
       "    <tr>\n",
       "      <th>10</th>\n",
       "      <td>aps</td>\n",
       "      <td>0.023191</td>\n",
       "    </tr>\n",
       "    <tr>\n",
       "      <th>20</th>\n",
       "      <td>wblc</td>\n",
       "      <td>0.018905</td>\n",
       "    </tr>\n",
       "    <tr>\n",
       "      <th>6</th>\n",
       "      <td>edu</td>\n",
       "      <td>0.011866</td>\n",
       "    </tr>\n",
       "    <tr>\n",
       "      <th>39</th>\n",
       "      <td>race_hispanic</td>\n",
       "      <td>0.011545</td>\n",
       "    </tr>\n",
       "    <tr>\n",
       "      <th>9</th>\n",
       "      <td>sps</td>\n",
       "      <td>0.009927</td>\n",
       "    </tr>\n",
       "    <tr>\n",
       "      <th>19</th>\n",
       "      <td>meanbp</td>\n",
       "      <td>0.006596</td>\n",
       "    </tr>\n",
       "    <tr>\n",
       "      <th>4</th>\n",
       "      <td>d_time</td>\n",
       "      <td>0.005738</td>\n",
       "    </tr>\n",
       "    <tr>\n",
       "      <th>21</th>\n",
       "      <td>hrt</td>\n",
       "      <td>0.004431</td>\n",
       "    </tr>\n",
       "    <tr>\n",
       "      <th>22</th>\n",
       "      <td>resp</td>\n",
       "      <td>0.004424</td>\n",
       "    </tr>\n",
       "    <tr>\n",
       "      <th>17</th>\n",
       "      <td>prg6m</td>\n",
       "      <td>0.003333</td>\n",
       "    </tr>\n",
       "    <tr>\n",
       "      <th>5</th>\n",
       "      <td>num_co</td>\n",
       "      <td>0.002798</td>\n",
       "    </tr>\n",
       "    <tr>\n",
       "      <th>23</th>\n",
       "      <td>temp</td>\n",
       "      <td>0.002591</td>\n",
       "    </tr>\n",
       "    <tr>\n",
       "      <th>26</th>\n",
       "      <td>adlsc</td>\n",
       "      <td>0.001908</td>\n",
       "    </tr>\n",
       "    <tr>\n",
       "      <th>16</th>\n",
       "      <td>prg2m</td>\n",
       "      <td>0.001629</td>\n",
       "    </tr>\n",
       "    <tr>\n",
       "      <th>24</th>\n",
       "      <td>crea</td>\n",
       "      <td>0.001270</td>\n",
       "    </tr>\n",
       "    <tr>\n",
       "      <th>32</th>\n",
       "      <td>dzgroup_coma</td>\n",
       "      <td>0.001092</td>\n",
       "    </tr>\n",
       "    <tr>\n",
       "      <th>11</th>\n",
       "      <td>surv2m</td>\n",
       "      <td>0.001076</td>\n",
       "    </tr>\n",
       "    <tr>\n",
       "      <th>25</th>\n",
       "      <td>sod</td>\n",
       "      <td>0.000928</td>\n",
       "    </tr>\n",
       "    <tr>\n",
       "      <th>2</th>\n",
       "      <td>hospdead</td>\n",
       "      <td>0.000836</td>\n",
       "    </tr>\n",
       "    <tr>\n",
       "      <th>37</th>\n",
       "      <td>dzclass_coma</td>\n",
       "      <td>0.000765</td>\n",
       "    </tr>\n",
       "    <tr>\n",
       "      <th>41</th>\n",
       "      <td>ca_no</td>\n",
       "      <td>0.000478</td>\n",
       "    </tr>\n",
       "    <tr>\n",
       "      <th>44</th>\n",
       "      <td>dnr_no_dnr</td>\n",
       "      <td>0.000456</td>\n",
       "    </tr>\n",
       "    <tr>\n",
       "      <th>42</th>\n",
       "      <td>ca_yes</td>\n",
       "      <td>0.000429</td>\n",
       "    </tr>\n",
       "    <tr>\n",
       "      <th>34</th>\n",
       "      <td>dzgroup_mosf_w_malig</td>\n",
       "      <td>0.000331</td>\n",
       "    </tr>\n",
       "    <tr>\n",
       "      <th>12</th>\n",
       "      <td>surv6m</td>\n",
       "      <td>0.000312</td>\n",
       "    </tr>\n",
       "    <tr>\n",
       "      <th>40</th>\n",
       "      <td>race_white</td>\n",
       "      <td>0.000171</td>\n",
       "    </tr>\n",
       "    <tr>\n",
       "      <th>14</th>\n",
       "      <td>diabetes</td>\n",
       "      <td>0.000158</td>\n",
       "    </tr>\n",
       "    <tr>\n",
       "      <th>30</th>\n",
       "      <td>dzgroup_cirrhosis</td>\n",
       "      <td>0.000141</td>\n",
       "    </tr>\n",
       "    <tr>\n",
       "      <th>1</th>\n",
       "      <td>death</td>\n",
       "      <td>0.000126</td>\n",
       "    </tr>\n",
       "    <tr>\n",
       "      <th>46</th>\n",
       "      <td>sfdm2_adl&gt;=4_&gt;=5_if_sur_</td>\n",
       "      <td>0.000095</td>\n",
       "    </tr>\n",
       "    <tr>\n",
       "      <th>45</th>\n",
       "      <td>sfdm2_sip&gt;=30</td>\n",
       "      <td>0.000094</td>\n",
       "    </tr>\n",
       "    <tr>\n",
       "      <th>27</th>\n",
       "      <td>sex_male</td>\n",
       "      <td>0.000031</td>\n",
       "    </tr>\n",
       "    <tr>\n",
       "      <th>47</th>\n",
       "      <td>sfdm2_no_m2_and_sip_pres_</td>\n",
       "      <td>0.000003</td>\n",
       "    </tr>\n",
       "    <tr>\n",
       "      <th>38</th>\n",
       "      <td>race_black</td>\n",
       "      <td>0.000000</td>\n",
       "    </tr>\n",
       "    <tr>\n",
       "      <th>36</th>\n",
       "      <td>dzclass_cancer</td>\n",
       "      <td>0.000000</td>\n",
       "    </tr>\n",
       "    <tr>\n",
       "      <th>35</th>\n",
       "      <td>dzclass_copd_chf_cirrhosis</td>\n",
       "      <td>0.000000</td>\n",
       "    </tr>\n",
       "    <tr>\n",
       "      <th>33</th>\n",
       "      <td>dzgroup_lung_cancer</td>\n",
       "      <td>0.000000</td>\n",
       "    </tr>\n",
       "    <tr>\n",
       "      <th>43</th>\n",
       "      <td>dnr_dnr_before_sadm</td>\n",
       "      <td>0.000000</td>\n",
       "    </tr>\n",
       "    <tr>\n",
       "      <th>31</th>\n",
       "      <td>dzgroup_colon_cancer</td>\n",
       "      <td>0.000000</td>\n",
       "    </tr>\n",
       "    <tr>\n",
       "      <th>29</th>\n",
       "      <td>dzgroup_copd</td>\n",
       "      <td>0.000000</td>\n",
       "    </tr>\n",
       "    <tr>\n",
       "      <th>28</th>\n",
       "      <td>dzgroup_chf</td>\n",
       "      <td>0.000000</td>\n",
       "    </tr>\n",
       "    <tr>\n",
       "      <th>15</th>\n",
       "      <td>dementia</td>\n",
       "      <td>0.000000</td>\n",
       "    </tr>\n",
       "  </tbody>\n",
       "</table>\n",
       "</div>"
      ],
      "text/plain": [
       "                       Feature  Importance\n",
       "3                         slos    0.383344\n",
       "13                        hday    0.234973\n",
       "18                      dnrday    0.118217\n",
       "8                      avtisst    0.085204\n",
       "0                          age    0.030399\n",
       "7                        scoma    0.030192\n",
       "10                         aps    0.023191\n",
       "20                        wblc    0.018905\n",
       "6                          edu    0.011866\n",
       "39               race_hispanic    0.011545\n",
       "9                          sps    0.009927\n",
       "19                      meanbp    0.006596\n",
       "4                       d_time    0.005738\n",
       "21                         hrt    0.004431\n",
       "22                        resp    0.004424\n",
       "17                       prg6m    0.003333\n",
       "5                       num_co    0.002798\n",
       "23                        temp    0.002591\n",
       "26                       adlsc    0.001908\n",
       "16                       prg2m    0.001629\n",
       "24                        crea    0.001270\n",
       "32                dzgroup_coma    0.001092\n",
       "11                      surv2m    0.001076\n",
       "25                         sod    0.000928\n",
       "2                     hospdead    0.000836\n",
       "37                dzclass_coma    0.000765\n",
       "41                       ca_no    0.000478\n",
       "44                  dnr_no_dnr    0.000456\n",
       "42                      ca_yes    0.000429\n",
       "34        dzgroup_mosf_w_malig    0.000331\n",
       "12                      surv6m    0.000312\n",
       "40                  race_white    0.000171\n",
       "14                    diabetes    0.000158\n",
       "30           dzgroup_cirrhosis    0.000141\n",
       "1                        death    0.000126\n",
       "46    sfdm2_adl>=4_>=5_if_sur_    0.000095\n",
       "45               sfdm2_sip>=30    0.000094\n",
       "27                    sex_male    0.000031\n",
       "47   sfdm2_no_m2_and_sip_pres_    0.000003\n",
       "38                  race_black    0.000000\n",
       "36              dzclass_cancer    0.000000\n",
       "35  dzclass_copd_chf_cirrhosis    0.000000\n",
       "33         dzgroup_lung_cancer    0.000000\n",
       "43         dnr_dnr_before_sadm    0.000000\n",
       "31        dzgroup_colon_cancer    0.000000\n",
       "29                dzgroup_copd    0.000000\n",
       "28                 dzgroup_chf    0.000000\n",
       "15                    dementia    0.000000"
      ]
     },
     "execution_count": 33,
     "metadata": {},
     "output_type": "execute_result"
    }
   ],
   "source": [
    "boost_fi = final_boost_model.feature_importances_\n",
    "\n",
    "boost_fi_df = pd.DataFrame({\n",
    "    'Feature': X.columns,\n",
    "    'Importance': boost_fi\n",
    "}).sort_values(by = 'Importance', ascending = False)\n",
    "\n",
    "boost_fi_df"
   ]
  },
  {
   "cell_type": "markdown",
   "id": "bac9a8db",
   "metadata": {},
   "source": [
    "## Predicting Test Set"
   ]
  },
  {
   "cell_type": "code",
   "execution_count": 37,
   "id": "55d625ae",
   "metadata": {
    "scrolled": true
   },
   "outputs": [
    {
     "name": "stdout",
     "output_type": "stream",
     "text": [
      "Gradient Boosting MAPE: 0.5056\n",
      "Gradient Boosting MAE: 23120.0134\n",
      "Gradient Boosting MDAE: 8212.0107\n",
      "Gradient Boosting MSE: 3362682102.8773\n",
      "Gradient Boosting RMSE: 57988.6377\n"
     ]
    }
   ],
   "source": [
    "y_pred_bst = final_boost_model.predict(X_test)\n",
    "\n",
    "bst_mape = mean_absolute_percentage_error(y_test, y_pred_bst)\n",
    "bst_mae = mean_absolute_error(y_test, y_pred_bst)\n",
    "bst_mdae = median_absolute_error(y_test, y_pred_bst) # median absolute error\n",
    "bst_mse = mean_squared_error(y_test, y_pred_bst)\n",
    "bst_rmse = rmse(y_test, y_pred_bst)\n",
    "\n",
    "print(\"Gradient Boosting MAPE:\", round(bst_mape, 4))\n",
    "print(\"Gradient Boosting MAE:\", round(bst_mae, 4))\n",
    "print(\"Gradient Boosting MDAE:\", round(bst_mdae, 4))\n",
    "print(\"Gradient Boosting MSE:\", round(bst_mse, 4))\n",
    "print(\"Gradient Boosting RMSE:\", round(bst_rmse, 4))"
   ]
  },
  {
   "cell_type": "markdown",
   "id": "be930a4d",
   "metadata": {},
   "source": [
    "# XGBoost"
   ]
  },
  {
   "cell_type": "markdown",
   "id": "d7c0d602",
   "metadata": {},
   "source": [
    "XGBoost stands for \"eXtreme Gradient Boosting\" and it is a specific implementation of the gradient boosting method. The two most important changes are:\n",
    "\n",
    "1. computing second order derivatives\n",
    "    1. Gradient boosting uses the loss function of the base model (e.g decision tree) as a proxy for minimizing the error of the overall model, XGBoost uses the 2nd order derivative as an approximation.\n",
    "    2. Uses L1 and L2 regularization to improve model generalization.\n",
    "    \n",
    "XGBoost has become an industry standard in the data science community and, to put it crudely, is the silver bullet in the data science toolkit. This is because training is very fast, can be distributed across compute clusters, and has achieved state of the art perfromance in several competitions. The beauty behind it is not just its accuracy but its scalability.\n",
    "\n",
    "XGBoost also handles sparse data in an effective way (`NA` data) thus we will be using testing the algorithm with the processed dataset AND the full, unclean dataset.\n",
    "\n",
    "## Mathematics\n",
    "\n",
    "In XGBoost, the objective function is:\n",
    "\n",
    "$$\\mathcal{L}(\\phi) = \\sum_{i}l(\\hat{y}_i, y_i) + \\sum_{k}\\Omega(f_k)$$\n",
    "\n",
    "$$\\Omega(f) = \\gamma T + \\frac{1}{2}\\lambda \\lVert w \\rVert^2$$\n",
    "\n",
    "Where $l$ is a differentiable convex loss function measuring the difference between the true and predicted values. T\n",
    "\n",
    "The second term $\\Omega$ is the regularization term for the k-th tree (penalizes the complexity of the model). The regularization term helps smooth the final learnt weights to avoid overfitting. $T$ is the number of leaves in the tree $f$. $\\gamma$ is the regularization parameter that penalizes the number of leaves in a tree. $w$ represents the vector of leaf weights (the output values at the leaves) and $\\lVert w \\rVert^2$ is the L2 norm (sum of squared values) of the leaf weights. $\\lambda$ is a regularization parameter that penalizes large weights, encouraging the model to keep the leaf values smaller and thereby reducing the risk of overfitting. XGBoost's more sophisticated regularization framework allows for better control over the complexity of the model, which leads to improved generalization and reduced risk of overfitting.\n",
    "\n",
    "Traditional optimization methods, such as gradient descent, operate in Euclidean space. These methods typically involve optimizing a funtion with repsect to a set of parameters, where the parameters are represented as points in Euclidean space. XGBoost includes not only parameters in Euclidean space but also functions, specifically decision trees. Decision trees are more complex structures that cannot be eaily optimized using tradional methods designed for Euclidean space. This is because the tree structure as parameters (optimizing over trees involves discrete choices, not a continious process moving in Euclidean space). Also because the process of growing trees involves non-differentiable operations such as choosing the best split based on some criterion (e.g., information gain, Gini impurity). \n",
    "\n",
    "Instead of optimizing over the entire tree structure at once, XGBoost uses an additive approach where a model is built incrementally. \n",
    "\n",
    "### Algorithm\n",
    "\n",
    "1. Start with an initial prediction, e.g. the mean of $y$\n",
    "\n",
    "2. At each iteration, a new tree $f_t$ is added to the model. The objective function at iteration $t$ is given by:\n",
    "\n",
    "$$\\mathcal{L}^{(t)} = \\sum_{i = 1}^{n} l(y_i, \\hat{y}_i^{(t-1)} + f_{t}(x_i)) + \\Omega(f_t)$$\n",
    "\n",
    "3. For optimization, XGBoost uses first and second order Taylor expansion (gradient and Hessian) to approximate the loss function:\n",
    "\n",
    "$$ \\mathcal{L}^{(t)} \\approx \\sum_{i = 1}^{n} l(y_i, \\hat{y}_i^{(t-1)} + g_{i}f_{t}(x_i) + \\frac{1}{2}h_{i}f_{t}^{2}(x_i)) + \\Omega(f_t)$$\n",
    "\n",
    "This approximation allows XGBoost to apply a form of gradient-based optimization but specifically tailored to the structure of decision trees."
   ]
  },
  {
   "cell_type": "code",
   "execution_count": null,
   "id": "c1c40c22",
   "metadata": {},
   "outputs": [],
   "source": []
  },
  {
   "cell_type": "code",
   "execution_count": null,
   "id": "efbde45f",
   "metadata": {},
   "outputs": [],
   "source": []
  }
 ],
 "metadata": {
  "kernelspec": {
   "display_name": "Python 3 (ipykernel)",
   "language": "python",
   "name": "python3"
  },
  "language_info": {
   "codemirror_mode": {
    "name": "ipython",
    "version": 3
   },
   "file_extension": ".py",
   "mimetype": "text/x-python",
   "name": "python",
   "nbconvert_exporter": "python",
   "pygments_lexer": "ipython3",
   "version": "3.11.7"
  }
 },
 "nbformat": 4,
 "nbformat_minor": 5
}
