{
 "cells": [
  {
   "cell_type": "markdown",
   "id": "47d0de43",
   "metadata": {},
   "source": [
    "This file contains linear machine learning models utilizing the sci-kit learn module\n",
    "\n",
    "This includes:\n",
    "\n",
    "    multiple linear regression\n",
    "    lasso regression\n",
    "    ridge regression\n",
    "    elastic net regression\n",
    "    principal component regression\n",
    "    \n",
    "Our target metric is *Root Mean Squared Error* (RMSE). I will also include *Mean Absolute Percentage Error* (MAPE) which can be a little easier to interpret"
   ]
  },
  {
   "cell_type": "code",
   "execution_count": 112,
   "id": "1aeb2deb",
   "metadata": {},
   "outputs": [],
   "source": [
    "import os\n",
    "import pandas as pd\n",
    "import numpy as np\n",
    "from sklearn.model_selection import train_test_split\n",
    "from sklearn.linear_model import LinearRegression\n",
    "from sklearn.linear_model import RidgeCV, LassoCV, ElasticNetCV\n",
    "from sklearn.decomposition import PCA\n",
    "from sklearn.pipeline import Pipeline\n",
    "from sklearn.preprocessing import StandardScaler\n",
    "\n",
    "\n",
    "from sklearn.metrics import mean_squared_error, mean_absolute_percentage_error\n",
    "\n",
    "import matplotlib.pyplot as plt"
   ]
  },
  {
   "cell_type": "code",
   "execution_count": 24,
   "id": "14a12154",
   "metadata": {},
   "outputs": [],
   "source": [
    "# Set pandas display precision to 4 decimal places\n",
    "pd.options.display.float_format = '{:.4f}'.format\n",
    "np.set_printoptions(precision=4)"
   ]
  },
  {
   "cell_type": "markdown",
   "id": "ed3df9f0",
   "metadata": {},
   "source": [
    "## Importing Data Set"
   ]
  },
  {
   "cell_type": "code",
   "execution_count": 2,
   "id": "be7a902b",
   "metadata": {},
   "outputs": [],
   "source": [
    "# Importing processed dataframe\n",
    "path_project = \"C:/Users/Conno/Documents/Career/Projects/Hospital_Charges\"\n",
    "\n",
    "os.chdir(path_project)\n",
    "\n",
    "df = pd.read_csv(\"./df_processed.csv\")"
   ]
  },
  {
   "cell_type": "code",
   "execution_count": 13,
   "id": "70f433b2",
   "metadata": {},
   "outputs": [
    {
     "data": {
      "text/plain": [
       "count    4.834000e+03\n",
       "mean     5.571889e+04\n",
       "std      9.537884e+04\n",
       "min      1.212000e+03\n",
       "25%      9.630500e+03\n",
       "50%      2.394900e+04\n",
       "75%      6.086837e+04\n",
       "max      1.273347e+06\n",
       "Name: charges, dtype: float64"
      ]
     },
     "execution_count": 13,
     "metadata": {},
     "output_type": "execute_result"
    }
   ],
   "source": [
    "df[\"charges\"].describe()"
   ]
  },
  {
   "cell_type": "markdown",
   "id": "c2293d81",
   "metadata": {},
   "source": [
    "## Train-Test Split\n",
    "\n",
    "80-20 split"
   ]
  },
  {
   "cell_type": "code",
   "execution_count": 3,
   "id": "79291267",
   "metadata": {},
   "outputs": [],
   "source": [
    "X = df.drop(columns = [\"charges\"])\n",
    "y = df[\"charges\"]\n",
    "\n",
    "X_train, X_test, y_train, y_test = train_test_split(X, y, test_size = 0.2, random_state = 32)"
   ]
  },
  {
   "cell_type": "markdown",
   "id": "e49641dc",
   "metadata": {},
   "source": [
    "# Multiple Linear Regression"
   ]
  },
  {
   "cell_type": "code",
   "execution_count": 62,
   "id": "974385c5",
   "metadata": {},
   "outputs": [
    {
     "name": "stdout",
     "output_type": "stream",
     "text": [
      "Multiple Linear Regression MAPE: 1.1277733777501542\n",
      "Multiple Linear Regression RMSE: 63525.15762253807\n"
     ]
    }
   ],
   "source": [
    "# Fitting the multiple linear regression model\n",
    "multiple_lm = LinearRegression()\n",
    "multiple_lm.fit(X_train, y_train)\n",
    "\n",
    "# predicting using the model\n",
    "\n",
    "multiple_lm_predictions = multiple_lm.predict(X_test)\n",
    "\n",
    "# Calculating MAPE of test set\n",
    "multiple_lm_mape = mean_absolute_percentage_error(y_test, multiple_lm_predictions)\n",
    "print(\"Multiple Linear Regression MAPE:\", multiple_lm_mape)\n",
    "\n",
    "# Calculating RMSE of test set\n",
    "\n",
    "multiple_lm_rmse = np.sqrt(mean_squared_error(y_test, multiple_lm_predictions))\n",
    "print(\"Multiple Linear Regression RMSE:\", multiple_lm_rmse)"
   ]
  },
  {
   "cell_type": "markdown",
   "id": "75fbe45b",
   "metadata": {},
   "source": [
    "## Coefficients"
   ]
  },
  {
   "cell_type": "code",
   "execution_count": 67,
   "id": "82724cb9",
   "metadata": {},
   "outputs": [
    {
     "name": "stdout",
     "output_type": "stream",
     "text": [
      "surv6m: -74806.2860\n",
      "race_black: -36068.7755\n",
      "race_white: -31993.1443\n",
      "dzgroup_mosf_w_malig: -20650.0110\n",
      "dzclass_coma: -19323.0453\n",
      "dzgroup_coma: -19323.0453\n",
      "diabetes: -13052.5518\n",
      "sfdm2_sip>=30: -10900.5517\n",
      "dzgroup_cirrhosis: -10255.2299\n",
      "dnr_no_dnr: -9457.3729\n",
      "death: -9073.1667\n",
      "dementia: -8427.6690\n",
      "dzgroup_lung_cancer: -7563.2557\n",
      "dzclass_cancer: -6446.8199\n",
      "sfdm2_no_m2_and_sip_pres_: -5139.5044\n",
      "dzclass_copd_chf_cirrhosis: -5065.4219\n",
      "sfdm2_adl>=4_>=5_if_sur_: -4099.9767\n",
      "sex_male: -1971.2279\n",
      "hospdead: -1948.2531\n",
      "dzgroup_copd: -1685.1442\n",
      "sps: -1319.3237\n",
      "adlsc: -1083.3734\n",
      "age: -589.6487\n",
      "ca_yes: -283.8339\n",
      "wblc: -217.5467\n",
      "meanbp: -98.1873\n",
      "d_time: -7.0570\n",
      "hrt: 4.4819\n",
      "resp: 146.4190\n",
      "scoma: 227.2443\n",
      "sod: 255.4888\n",
      "aps: 375.6621\n",
      "prg2m: 545.8644\n",
      "dnrday: 1009.4615\n",
      "dzgroup_colon_cancer: 1116.4359\n",
      "avtisst: 1153.2949\n",
      "crea: 1317.6018\n",
      "slos: 1374.4861\n",
      "temp: 1635.3863\n",
      "edu: 2005.6947\n",
      "dnr_dnr_before_sadm: 2502.4048\n",
      "race_hispanic: 3050.5558\n",
      "hday: 3511.4302\n",
      "ca_no: 6472.8535\n",
      "dzgroup_chf: 6874.9522\n",
      "num_co_1: 11026.1415\n",
      "prg6m: 11559.4683\n",
      "num_co_2: 15842.5297\n",
      "num_co_3: 18468.5707\n",
      "num_co_5: 19968.8842\n",
      "num_co_4: 22313.1332\n",
      "num_co_6: 26610.6060\n",
      "surv2m: 32270.3423\n"
     ]
    }
   ],
   "source": [
    "predictor_names = X.columns\n",
    "mult_lm_coeffs = multiple_lm.coef_\n",
    "\n",
    "predictor_coefs = {predictor: coef for predictor, coef in zip(predictor_names, mult_lm_coeffs)}\n",
    "sorted_predictor_coefs = dict(sorted(predictor_coefs.items(), key=lambda item: item[1]))\n",
    "\n",
    "for predictor, coef in sorted_predictor_coefs.items():\n",
    "    print(f\"{predictor}: {coef:.4f}\")"
   ]
  },
  {
   "cell_type": "markdown",
   "id": "ba9dc100",
   "metadata": {},
   "source": [
    "We can see here, by the coefficient values, the signifiance given to each predictor as determined by multiple linear regression.\n",
    "\n",
    "**MORE INFERNCE LATER**"
   ]
  },
  {
   "cell_type": "markdown",
   "id": "f2713c6a",
   "metadata": {},
   "source": [
    "# Lasso Regression"
   ]
  },
  {
   "cell_type": "code",
   "execution_count": 29,
   "id": "843729b8",
   "metadata": {},
   "outputs": [],
   "source": [
    "# Fitting lasso regression. 10 Fold cross validation is automatically performed to select best alpha (hyperparameter) value\n",
    "lasso_cv = LassoCV(cv = 10, random_state = 32)\n",
    "lasso_cv.fit(X_train, y_train)\n",
    "\n",
    "alphas = lasso_cv.alphas_\n",
    "mse_path = lasso_cv.mse_path_\n",
    "mean_mse = mse_path.mean(axis = 1)"
   ]
  },
  {
   "cell_type": "code",
   "execution_count": 35,
   "id": "7a7d4e04",
   "metadata": {},
   "outputs": [
    {
     "data": {
      "text/plain": [
       "2288.6289222556575"
      ]
     },
     "execution_count": 35,
     "metadata": {},
     "output_type": "execute_result"
    }
   ],
   "source": [
    "lasso_cv.alpha_"
   ]
  },
  {
   "cell_type": "code",
   "execution_count": 45,
   "id": "2fad204c",
   "metadata": {},
   "outputs": [
    {
     "data": {
      "image/png": "[encoded data removed]",
      "text/plain": [
       "<Figure size 1000x600 with 1 Axes>"
      ]
     },
     "metadata": {},
     "output_type": "display_data"
    }
   ],
   "source": [
    "plt.figure(figsize=(10, 6))\n",
    "plt.plot(alphas, mean_mse, marker='o', linestyle='-', color='b', label='Mean MSE')\n",
    "plt.axvline(lasso_cv.alpha_, color='g', linestyle='--', label='Selected Alpha')\n",
    "plt.xlabel('Alpha')\n",
    "plt.ylabel('Mean Squared Error')\n",
    "plt.title('Mean Squared Error vs. Alpha for LassoCV')\n",
    "plt.legend()\n",
    "plt.xscale('log')\n",
    "plt.show()\n"
   ]
  },
  {
   "cell_type": "markdown",
   "id": "57fd866d",
   "metadata": {},
   "source": [
    "## Coefficients"
   ]
  },
  {
   "cell_type": "code",
   "execution_count": 68,
   "id": "ae58ba89",
   "metadata": {},
   "outputs": [
    {
     "name": "stdout",
     "output_type": "stream",
     "text": [
      "sps: -437.3132\n",
      "age: -419.3492\n",
      "adlsc: -275.3113\n",
      "wblc: -219.5193\n",
      "meanbp: -127.2932\n",
      "d_time: -4.8914\n",
      "death: -0.0000\n",
      "hospdead: 0.0000\n",
      "surv2m: 0.0000\n",
      "surv6m: -0.0000\n",
      "diabetes: -0.0000\n",
      "dementia: -0.0000\n",
      "prg2m: 0.0000\n",
      "prg6m: 0.0000\n",
      "temp: 0.0000\n",
      "sex_male: -0.0000\n",
      "dzgroup_chf: 0.0000\n",
      "dzgroup_copd: 0.0000\n",
      "dzgroup_cirrhosis: -0.0000\n",
      "dzgroup_colon_cancer: 0.0000\n",
      "dzgroup_coma: -0.0000\n",
      "dzgroup_lung_cancer: 0.0000\n",
      "dzgroup_mosf_w_malig: -0.0000\n",
      "dzclass_copd_chf_cirrhosis: 0.0000\n",
      "dzclass_cancer: 0.0000\n",
      "dzclass_coma: -0.0000\n",
      "num_co_1: -0.0000\n",
      "num_co_2: 0.0000\n",
      "num_co_3: 0.0000\n",
      "num_co_4: 0.0000\n",
      "num_co_5: -0.0000\n",
      "num_co_6: 0.0000\n",
      "race_black: -0.0000\n",
      "race_hispanic: 0.0000\n",
      "race_white: -0.0000\n",
      "ca_no: 0.0000\n",
      "ca_yes: -0.0000\n",
      "dnr_dnr_before_sadm: 0.0000\n",
      "dnr_no_dnr: -0.0000\n",
      "sfdm2_sip>=30: -0.0000\n",
      "sfdm2_adl>=4_>=5_if_sur_: -0.0000\n",
      "sfdm2_no_m2_and_sip_pres_: 0.0000\n",
      "hrt: 38.8067\n",
      "scoma: 140.8075\n",
      "resp: 154.7992\n",
      "sod: 210.1233\n",
      "crea: 352.8398\n",
      "aps: 379.5750\n",
      "dnrday: 876.6400\n",
      "avtisst: 1088.4186\n",
      "slos: 1479.3220\n",
      "edu: 1770.5374\n",
      "hday: 3627.3425\n"
     ]
    }
   ],
   "source": [
    "predictor_names = X.columns\n",
    "lasso_coeffs = lasso_cv.coef_\n",
    "\n",
    "predictor_coefs = {predictor: coef for predictor, coef in zip(predictor_names, lasso_coeffs)}\n",
    "sorted_predictor_coefs = dict(sorted(predictor_coefs.items(), key = lambda item: item[1]))\n",
    "\n",
    "for predictor, coef in sorted_predictor_coefs.items():\n",
    "    print(f\"{predictor}: {coef:.4f}\")"
   ]
  },
  {
   "cell_type": "markdown",
   "id": "803f5d63",
   "metadata": {},
   "source": [
    "We can see here, by the coefficient values, the signifiance given to each predictor as determined by lasso regularization. This is a stark contrast to the coefficents from multiple linear regression. \n",
    "\n",
    "Coefficients with a value of 0 were deduced to be insignificant to the model and thus removed."
   ]
  },
  {
   "cell_type": "markdown",
   "id": "6caa2468",
   "metadata": {},
   "source": [
    "## Evaluating Performance"
   ]
  },
  {
   "cell_type": "code",
   "execution_count": 39,
   "id": "df4f1426",
   "metadata": {},
   "outputs": [
    {
     "name": "stdout",
     "output_type": "stream",
     "text": [
      "Lasso Regression MAPE: 0.9670414822564715\n",
      "Lasso Regression RMSE: 64610.73290397097\n"
     ]
    }
   ],
   "source": [
    "lasso_predictions = lasso_cv.predict(X_test)\n",
    "\n",
    "# Calculating MAPE of test set\n",
    "lasso_mape = mean_absolute_percentage_error(y_test, lasso_predictions)\n",
    "print(\"Lasso Regression MAPE:\", lasso_mape)\n",
    "\n",
    "# Calculating RMSE of test set\n",
    "lasso_rmse = np.sqrt(mean_squared_error(y_test, lasso_predictions))\n",
    "print(\"Lasso Regression RMSE:\", lasso_rmse)\n"
   ]
  },
  {
   "cell_type": "markdown",
   "id": "ac555063",
   "metadata": {},
   "source": [
    "Better MAPE but worse RMSE"
   ]
  },
  {
   "cell_type": "markdown",
   "id": "ee363aee",
   "metadata": {},
   "source": [
    "# Ridge Regression"
   ]
  },
  {
   "cell_type": "code",
   "execution_count": 56,
   "id": "4985032d",
   "metadata": {},
   "outputs": [
    {
     "data": {
      "text/plain": [
       "10.0"
      ]
     },
     "execution_count": 56,
     "metadata": {},
     "output_type": "execute_result"
    }
   ],
   "source": [
    "# Fitting ridge regression. 10 Fold cross validation is automatically performed to select best alpha (hyperparameter) value\n",
    "ridge_cv = RidgeCV(cv = 10) # no random state\n",
    "ridge_cv.fit(X_train, y_train)\n",
    "\n",
    "ridge_cv.alpha_ # best alpha value chosen"
   ]
  },
  {
   "cell_type": "markdown",
   "id": "7ce576fd",
   "metadata": {},
   "source": [
    "## Coefficients"
   ]
  },
  {
   "cell_type": "code",
   "execution_count": 73,
   "id": "881b0f5b",
   "metadata": {},
   "outputs": [
    {
     "name": "stdout",
     "output_type": "stream",
     "text": [
      "sps: -437.3132\n",
      "age: -419.3492\n",
      "adlsc: -275.3113\n",
      "wblc: -219.5193\n",
      "meanbp: -127.2932\n",
      "d_time: -4.8914\n",
      "death: -0.0000\n",
      "hospdead: 0.0000\n",
      "surv2m: 0.0000\n",
      "surv6m: -0.0000\n",
      "diabetes: -0.0000\n",
      "dementia: -0.0000\n",
      "prg2m: 0.0000\n",
      "prg6m: 0.0000\n",
      "temp: 0.0000\n",
      "sex_male: -0.0000\n",
      "dzgroup_chf: 0.0000\n",
      "dzgroup_copd: 0.0000\n",
      "dzgroup_cirrhosis: -0.0000\n",
      "dzgroup_colon_cancer: 0.0000\n",
      "dzgroup_coma: -0.0000\n",
      "dzgroup_lung_cancer: 0.0000\n",
      "dzgroup_mosf_w_malig: -0.0000\n",
      "dzclass_copd_chf_cirrhosis: 0.0000\n",
      "dzclass_cancer: 0.0000\n",
      "dzclass_coma: -0.0000\n",
      "num_co_1: -0.0000\n",
      "num_co_2: 0.0000\n",
      "num_co_3: 0.0000\n",
      "num_co_4: 0.0000\n",
      "num_co_5: -0.0000\n",
      "num_co_6: 0.0000\n",
      "race_black: -0.0000\n",
      "race_hispanic: 0.0000\n",
      "race_white: -0.0000\n",
      "ca_no: 0.0000\n",
      "ca_yes: -0.0000\n",
      "dnr_dnr_before_sadm: 0.0000\n",
      "dnr_no_dnr: -0.0000\n",
      "sfdm2_sip>=30: -0.0000\n",
      "sfdm2_adl>=4_>=5_if_sur_: -0.0000\n",
      "sfdm2_no_m2_and_sip_pres_: 0.0000\n",
      "hrt: 38.8067\n",
      "scoma: 140.8075\n",
      "resp: 154.7992\n",
      "sod: 210.1233\n",
      "crea: 352.8398\n",
      "aps: 379.5750\n",
      "dnrday: 876.6400\n",
      "avtisst: 1088.4186\n",
      "slos: 1479.3220\n",
      "edu: 1770.5374\n",
      "hday: 3627.3425\n"
     ]
    }
   ],
   "source": [
    "predictor_names = X.columns\n",
    "ridge_coeffs = ridge_cv.coef_\n",
    "\n",
    "predictor_coefs = {predictor: coef for predictor, coef in zip(predictor_names, lasso_coeffs)}\n",
    "sorted_predictor_coefs = dict(sorted(predictor_coefs.items(), key = lambda item: item[1]))\n",
    "\n",
    "for predictor, coef in sorted_predictor_coefs.items():\n",
    "    print(f\"{predictor}: {coef:.4f}\")"
   ]
  },
  {
   "cell_type": "markdown",
   "id": "9c838f1a",
   "metadata": {},
   "source": [
    "## Evaluating Performance"
   ]
  },
  {
   "cell_type": "code",
   "execution_count": 74,
   "id": "15e38bff",
   "metadata": {},
   "outputs": [
    {
     "name": "stdout",
     "output_type": "stream",
     "text": [
      "Ridge Regression MAPE: 1.0896961815202495\n",
      "Ridge Regression RMSE: 63487.340270539506\n"
     ]
    }
   ],
   "source": [
    "ridge_predictions = ridge_cv.predict(X_test)\n",
    "\n",
    "# Calculating MAPE of test set\n",
    "ridge_mape = mean_absolute_percentage_error(y_test, ridge_predictions)\n",
    "print(\"Ridge Regression MAPE:\", ridge_mape)\n",
    "\n",
    "# Calculating RMSE of test set\n",
    "ridge_rmse = np.sqrt(mean_squared_error(y_test, ridge_predictions))\n",
    "print(\"Ridge Regression RMSE:\", ridge_rmse)\n"
   ]
  },
  {
   "cell_type": "markdown",
   "id": "3df9a934",
   "metadata": {},
   "source": [
    "# Elastic Net"
   ]
  },
  {
   "cell_type": "code",
   "execution_count": 92,
   "id": "fbdc2e83",
   "metadata": {},
   "outputs": [],
   "source": [
    "# Fitting Elastic Net regression. 10 Fold cross validation is automatically performed to select best alpha (hyperparameter) value \n",
    "# and l1_ratio\n",
    "l1_ratio = np.linspace(0.1, 1, 100)\n",
    "\n",
    "enet_cv = ElasticNetCV(l1_ratio = l1_ratio, cv = 10, random_state = 32)\n",
    "enet_cv.fit(X_train, y_train)\n",
    "\n",
    "mse_path = enet_cv.mse_path_\n",
    "mean_mse_path = mse_path.mean(axis = 1)\n"
   ]
  },
  {
   "cell_type": "code",
   "execution_count": 95,
   "id": "cb8bfe36",
   "metadata": {},
   "outputs": [
    {
     "data": {
      "text/plain": [
       "array([0.1   , 0.1091, 0.1182, 0.1273, 0.1364, 0.1455, 0.1545, 0.1636,\n",
       "       0.1727, 0.1818, 0.1909, 0.2   , 0.2091, 0.2182, 0.2273, 0.2364,\n",
       "       0.2455, 0.2545, 0.2636, 0.2727, 0.2818, 0.2909, 0.3   , 0.3091,\n",
       "       0.3182, 0.3273, 0.3364, 0.3455, 0.3545, 0.3636, 0.3727, 0.3818,\n",
       "       0.3909, 0.4   , 0.4091, 0.4182, 0.4273, 0.4364, 0.4455, 0.4545,\n",
       "       0.4636, 0.4727, 0.4818, 0.4909, 0.5   , 0.5091, 0.5182, 0.5273,\n",
       "       0.5364, 0.5455, 0.5545, 0.5636, 0.5727, 0.5818, 0.5909, 0.6   ,\n",
       "       0.6091, 0.6182, 0.6273, 0.6364, 0.6455, 0.6545, 0.6636, 0.6727,\n",
       "       0.6818, 0.6909, 0.7   , 0.7091, 0.7182, 0.7273, 0.7364, 0.7455,\n",
       "       0.7545, 0.7636, 0.7727, 0.7818, 0.7909, 0.8   , 0.8091, 0.8182,\n",
       "       0.8273, 0.8364, 0.8455, 0.8545, 0.8636, 0.8727, 0.8818, 0.8909,\n",
       "       0.9   , 0.9091, 0.9182, 0.9273, 0.9364, 0.9455, 0.9545, 0.9636,\n",
       "       0.9727, 0.9818, 0.9909, 1.    ])"
      ]
     },
     "execution_count": 95,
     "metadata": {},
     "output_type": "execute_result"
    }
   ],
   "source": [
    "l1_ratio"
   ]
  },
  {
   "cell_type": "code",
   "execution_count": 94,
   "id": "ffa060a9",
   "metadata": {},
   "outputs": [
    {
     "data": {
      "text/plain": [
       "1.0"
      ]
     },
     "execution_count": 94,
     "metadata": {},
     "output_type": "execute_result"
    }
   ],
   "source": [
    "enet_cv.l1_ratio_ # l1_ratio chosen by the fit"
   ]
  },
  {
   "cell_type": "markdown",
   "id": "4a222fc3",
   "metadata": {},
   "source": [
    "Here `l1_ratio = 1.0` corresponds to pure Lasso reression (L1 Regularization) and `l1_ratio = 0` would be the pure Ridge regression (L2 Regularization). Since `ElasticNetCV` selected `1.0`, it means the model has chosen to use pure lasso regression for the optimal performance which we have already performed"
   ]
  },
  {
   "cell_type": "markdown",
   "id": "67af5690",
   "metadata": {},
   "source": [
    "# Principal Components Regression"
   ]
  },
  {
   "cell_type": "markdown",
   "id": "733aea24",
   "metadata": {},
   "source": [
    "Principal Component regression entails dimension reduction through the principal components (linear combinations of the predictors) and fitting linear regression.\n",
    "\n",
    "We will need to standardize the predictors because of the highly varying scales"
   ]
  },
  {
   "cell_type": "code",
   "execution_count": 113,
   "id": "02cbc92c",
   "metadata": {},
   "outputs": [],
   "source": [
    "scaler = StandardScaler()\n",
    "X_train_scaled = scaler.fit_transform(X_train)\n",
    "X_test_scaled = scaler.transform(X_test)"
   ]
  },
  {
   "cell_type": "code",
   "execution_count": 114,
   "id": "a72e712d",
   "metadata": {},
   "outputs": [
    {
     "data": {
      "image/png": "[encoded data removed]",
      "text/plain": [
       "<Figure size 1000x600 with 1 Axes>"
      ]
     },
     "metadata": {},
     "output_type": "display_data"
    }
   ],
   "source": [
    "pca = PCA()\n",
    "X_train_pca = pca.fit_transform(X_train_scaled)\n",
    "X_test_pca = pca.transform(X_test_scaled)\n",
    "\n",
    "explained_variance_ratio = pca.explained_variance_ratio_\n",
    "\n",
    "plt.figure(figsize = (10, 6))\n",
    "plt.plot(range(1, len(explained_variance_ratio) + 1), explained_variance_ratio, marker='o', linestyle='--')\n",
    "plt.title('Scree Plot')\n",
    "plt.xlabel('Principal Component')\n",
    "plt.ylabel('Explained Variance Ratio')\n",
    "plt.show()\n"
   ]
  },
  {
   "cell_type": "markdown",
   "id": "c0a11af5",
   "metadata": {},
   "source": [
    "The explained variance seems to flatten out after the 38th principal component"
   ]
  },
  {
   "cell_type": "code",
   "execution_count": 128,
   "id": "d2b950f8",
   "metadata": {},
   "outputs": [
    {
     "data": {
      "image/png": "[encoded data removed]",
      "text/plain": [
       "<Figure size 1000x600 with 1 Axes>"
      ]
     },
     "metadata": {},
     "output_type": "display_data"
    }
   ],
   "source": [
    "cumulative_explained_variance = np.cumsum(explained_variance_ratio)\n",
    "plt.figure(figsize=(10, 6))\n",
    "plt.plot(range(1, len(cumulative_explained_variance) + 1), cumulative_explained_variance, marker='o', linestyle='--')\n",
    "plt.axhline(y = 0.9, color = 'r', linestyle = '-')\n",
    "plt.title('Cumulative Explained Variance')\n",
    "plt.xlabel('Principal Component')\n",
    "plt.ylabel('Cumulative Explained Variance Ratio')\n",
    "plt.show()"
   ]
  },
  {
   "cell_type": "markdown",
   "id": "ba3eb9fa",
   "metadata": {},
   "source": [
    "The red line represent the cumulative variance of 0.9 which will determine the amount of PC's we use"
   ]
  },
  {
   "cell_type": "code",
   "execution_count": 130,
   "id": "6836a360",
   "metadata": {},
   "outputs": [
    {
     "data": {
      "text/plain": [
       "32"
      ]
     },
     "execution_count": 130,
     "metadata": {},
     "output_type": "execute_result"
    }
   ],
   "source": [
    "n_components = np.argmax(cumulative_explained_variance >= 0.9) + 1\n",
    "n_components"
   ]
  },
  {
   "cell_type": "markdown",
   "id": "5bc6a232",
   "metadata": {},
   "source": [
    "## Fitting PCA"
   ]
  },
  {
   "cell_type": "code",
   "execution_count": 132,
   "id": "449c3a87",
   "metadata": {},
   "outputs": [
    {
     "name": "stdout",
     "output_type": "stream",
     "text": [
      "PCR Regression MAPE: 1.0551790357764699\n",
      "PCR Regression RMSE: 64376.96862938301\n"
     ]
    }
   ],
   "source": [
    "X_train_pca_selected = X_train_pca[:, :n_components]\n",
    "X_test_pca_selected = X_test_pca[:, :n_components]\n",
    "\n",
    "regressor = LinearRegression()\n",
    "regressor.fit(X_train_pca_selected, y_train)\n",
    "\n",
    "pcr_predictions = regressor.predict(X_test_pca_selected)\n",
    "\n",
    "# Calculating MAPE of test set\n",
    "pcr_mape = mean_absolute_percentage_error(y_test, pcr_predictions)\n",
    "print(\"PCR Regression MAPE:\", pcr_mape)\n",
    "\n",
    "# Calculating RMSE of test set\n",
    "pcr_rmse = np.sqrt(mean_squared_error(y_test, pcr_predictions))\n",
    "print(\"PCR Regression RMSE:\", pcr_rmse)"
   ]
  }
 ],
 "metadata": {
  "kernelspec": {
   "display_name": "Python 3 (ipykernel)",
   "language": "python",
   "name": "python3"
  },
  "language_info": {
   "codemirror_mode": {
    "name": "ipython",
    "version": 3
   },
   "file_extension": ".py",
   "mimetype": "text/x-python",
   "name": "python",
   "nbconvert_exporter": "python",
   "pygments_lexer": "ipython3",
   "version": "3.11.7"
  }
 },
 "nbformat": 4,
 "nbformat_minor": 5
}
